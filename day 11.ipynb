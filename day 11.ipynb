{
 "cells": [
  {
   "cell_type": "code",
   "execution_count": 7,
   "metadata": {},
   "outputs": [
    {
     "name": "stdout",
     "output_type": "stream",
     "text": [
      "test()for function\n"
     ]
    }
   ],
   "source": [
    "def test():\n",
    "        print(\"test()for function\")\n",
    "        return\n",
    "test()"
   ]
  },
  {
   "cell_type": "code",
   "execution_count": 8,
   "metadata": {},
   "outputs": [
    {
     "name": "stdout",
     "output_type": "stream",
     "text": [
      "test()for the class and method\n"
     ]
    }
   ],
   "source": [
    "class demo:\n",
    "    def test(self):\n",
    "        print(\"test()for the class and method\")\n",
    "        return\n",
    "        \n",
    "obj=demo()\n",
    "obj.test()"
   ]
  },
  {
   "cell_type": "code",
   "execution_count": 10,
   "metadata": {},
   "outputs": [],
   "source": [
    "class demo1:\n",
    "    def fact(self,n):\n",
    "        #return the factorial\n",
    "        return\n",
    "    \n",
    "p1=demo1()\n",
    "p1.fact(5)#120"
   ]
  },
  {
   "cell_type": "code",
   "execution_count": 16,
   "metadata": {},
   "outputs": [
    {
     "name": "stdout",
     "output_type": "stream",
     "text": [
      "120\n"
     ]
    }
   ],
   "source": [
    "class demo1:\n",
    "    def fact(self,n):\n",
    "        #return the factorial\n",
    "        fact=1\n",
    "        while(n!=0):\n",
    "            fact=fact*n\n",
    "            n=n-1\n",
    "        return fact\n",
    "p1=demo1()\n",
    "print(p1.fact(5))#120           "
   ]
  },
  {
   "cell_type": "code",
   "execution_count": 20,
   "metadata": {},
   "outputs": [
    {
     "name": "stdout",
     "output_type": "stream",
     "text": [
      "300\n"
     ]
    }
   ],
   "source": [
    "class demo2:\n",
    "    def __init__(self,p1,p2):\n",
    "        self.p1=p2\n",
    "        self.p2=p1\n",
    "    def add(self,p1,p2):\n",
    "        return p1+p2\n",
    "    \n",
    "c1=demo2(10,20)\n",
    "print(c1.add(100,200))"
   ]
  },
  {
   "cell_type": "code",
   "execution_count": 30,
   "metadata": {},
   "outputs": [
    {
     "name": "stdout",
     "output_type": "stream",
     "text": [
      "yash False\n",
      "yashwanth True\n"
     ]
    }
   ],
   "source": [
    "class person(object):\n",
    "    def __init__(self,name):\n",
    "        self.name=name\n",
    "    def getname(self):\n",
    "        return self.name\n",
    "    def isemployee(self):\n",
    "        return False\n",
    "    \n",
    "class employee(person):\n",
    "    def isemployee(self):\n",
    "        return True\n",
    "    \n",
    "emp=person(\"yash\")\n",
    "print(emp.getname(),emp.isemployee())\n",
    "    \n",
    "emp1=employee(\"yashwanth\")\n",
    "print(emp1.getname(),emp1.isemployee())\n",
    "    "
   ]
  },
  {
   "cell_type": "code",
   "execution_count": 31,
   "metadata": {},
   "outputs": [
    {
     "name": "stdout",
     "output_type": "stream",
     "text": [
      "[1, 2, 3, 4]\n"
     ]
    }
   ],
   "source": [
    "list=[1,2,3,4]\n",
    "print(list)"
   ]
  },
  {
   "cell_type": "code",
   "execution_count": 32,
   "metadata": {},
   "outputs": [
    {
     "name": "stdout",
     "output_type": "stream",
     "text": [
      "[1 2 3 4]\n"
     ]
    }
   ],
   "source": [
    "import numpy as np\n",
    "list=[1,2,3,4]\n",
    "array=np.array(list)\n",
    "print(array)"
   ]
  },
  {
   "cell_type": "code",
   "execution_count": 33,
   "metadata": {},
   "outputs": [
    {
     "name": "stdout",
     "output_type": "stream",
     "text": [
      "(4,)\n",
      "int32\n"
     ]
    }
   ],
   "source": [
    "list=[1,2,3,4]\n",
    "array=np.array(list)\n",
    "print(array.shape)\n",
    "print(array.dtype)"
   ]
  },
  {
   "cell_type": "code",
   "execution_count": 39,
   "metadata": {},
   "outputs": [
    {
     "name": "stdout",
     "output_type": "stream",
     "text": [
      "(8,)\n",
      "float64\n"
     ]
    }
   ],
   "source": [
    "list=[1.65658,0,2,5,3,6,9,5]\n",
    "array=np.array(list)\n",
    "print(array.shape)\n",
    "print(array.dtype)"
   ]
  },
  {
   "cell_type": "code",
   "execution_count": 42,
   "metadata": {},
   "outputs": [
    {
     "name": "stdout",
     "output_type": "stream",
     "text": [
      "[[1 2 3]\n",
      " [4 5 6]]\n"
     ]
    },
    {
     "data": {
      "text/plain": [
       "array([[1, 2],\n",
       "       [3, 4],\n",
       "       [5, 6]])"
      ]
     },
     "execution_count": 42,
     "metadata": {},
     "output_type": "execute_result"
    }
   ],
   "source": [
    "a1=np.array([(1,2,3,),(4,5,6)])\n",
    "print(a1)\n",
    "a1.reshape(3,2)"
   ]
  },
  {
   "cell_type": "code",
   "execution_count": 43,
   "metadata": {},
   "outputs": [
    {
     "name": "stdout",
     "output_type": "stream",
     "text": [
      "[1 2 3 4 5 6]\n"
     ]
    }
   ],
   "source": [
    "a1=np.array([1,2,3])\n",
    "a2=np.array([4,5,6])\n",
    "print(np.hstack((a1,a2)))"
   ]
  },
  {
   "cell_type": "code",
   "execution_count": 44,
   "metadata": {},
   "outputs": [
    {
     "name": "stdout",
     "output_type": "stream",
     "text": [
      "[[1 2 3]\n",
      " [4 5 6]]\n"
     ]
    }
   ],
   "source": [
    "a1=np.array([1,2,3])\n",
    "a2=np.array([4,5,6])\n",
    "print(np.vstack((a1,a2)))"
   ]
  },
  {
   "cell_type": "code",
   "execution_count": 47,
   "metadata": {},
   "outputs": [
    {
     "name": "stdout",
     "output_type": "stream",
     "text": [
      "[[[1 4 7]\n",
      "  [2 5 8]\n",
      "  [3 6 9]]]\n"
     ]
    }
   ],
   "source": [
    "a1=np.array([1,2,3])\n",
    "a2=np.array([4,5,6])\n",
    "a3=np.array([7,8,9])\n",
    "print(np.dstack((a1,a2,a3)))"
   ]
  },
  {
   "cell_type": "code",
   "execution_count": 51,
   "metadata": {},
   "outputs": [
    {
     "name": "stdout",
     "output_type": "stream",
     "text": [
      "[[ 1  1  1  1]\n",
      " [ 1  1  1 14]\n",
      " [ 1  1  1  1]\n",
      " [ 1  1  1 16]]\n"
     ]
    }
   ],
   "source": [
    "A=np.matrix(np.ones((4,4),dtype=np.int64))\n",
    "np.asarray(A)[1][3]=14\n",
    "np.asarray(A)[3][3]=16\n",
    "print(A)"
   ]
  },
  {
   "cell_type": "code",
   "execution_count": 1,
   "metadata": {},
   "outputs": [
    {
     "data": {
      "text/plain": [
       "array([1, 2, 3, 4, 5, 6, 7, 8, 9])"
      ]
     },
     "execution_count": 1,
     "metadata": {},
     "output_type": "execute_result"
    }
   ],
   "source": [
    "import numpy as np\n",
    "np.arange(1,10)"
   ]
  },
  {
   "cell_type": "code",
   "execution_count": 2,
   "metadata": {},
   "outputs": [
    {
     "data": {
      "text/plain": [
       "array([ 1, 10, 19, 28, 37, 46, 55, 64, 73, 82, 91])"
      ]
     },
     "execution_count": 2,
     "metadata": {},
     "output_type": "execute_result"
    }
   ],
   "source": [
    "np.arange(1,100,9)"
   ]
  },
  {
   "cell_type": "code",
   "execution_count": 3,
   "metadata": {},
   "outputs": [
    {
     "data": {
      "text/plain": [
       "array([ 1,  3,  5,  7,  9, 11, 13, 15, 17, 19, 21, 23])"
      ]
     },
     "execution_count": 3,
     "metadata": {},
     "output_type": "execute_result"
    }
   ],
   "source": [
    "np.arange(2,20,20)\n",
    "np.arange(1,25,2)"
   ]
  },
  {
   "cell_type": "code",
   "execution_count": 6,
   "metadata": {},
   "outputs": [
    {
     "name": "stdout",
     "output_type": "stream",
     "text": [
      "slising column:  [2 5]\n"
     ]
    }
   ],
   "source": [
    "a1=np.array([(1,2,3),(4,5,6)])\n",
    "print(\"slising column: \",a1[:,1])"
   ]
  },
  {
   "cell_type": "code",
   "execution_count": 7,
   "metadata": {},
   "outputs": [
    {
     "name": "stdout",
     "output_type": "stream",
     "text": [
      "row and column: [2 5]\n"
     ]
    }
   ],
   "source": [
    "a1=np.array([(1,2,3),(4,5,6)])\n",
    "print(\"row and column:\",a1[:,1])"
   ]
  },
  {
   "cell_type": "code",
   "execution_count": 8,
   "metadata": {},
   "outputs": [
    {
     "name": "stdout",
     "output_type": "stream",
     "text": [
      "[5.28797426 6.5315356  3.75389632 4.05161698 4.54543172 3.31946233\n",
      " 4.1868473  4.89638161 5.40589634 7.06236944]\n",
      "min values= 3.3194623252224598\n",
      "max values= 7.062369444868706\n",
      "mean values= 4.904141190097565\n",
      "median values= 4.720906664396104\n"
     ]
    }
   ],
   "source": [
    "a1=np.random.normal(5,1,10)\n",
    "print(a1)\n",
    "print(\"min values=\",np.min(a1))\n",
    "print(\"max values=\",np.max(a1))\n",
    "print(\"mean values=\",np.mean(a1))\n",
    "print(\"median values=\",np.median(a1))"
   ]
  },
  {
   "cell_type": "code",
   "execution_count": 10,
   "metadata": {},
   "outputs": [
    {
     "data": {
      "text/plain": [
       "14"
      ]
     },
     "execution_count": 10,
     "metadata": {},
     "output_type": "execute_result"
    }
   ],
   "source": [
    "c1=np.array([1,2])\n",
    "c2=np.array([4,5])\n",
    "np.dot(c1,c2)"
   ]
  },
  {
   "cell_type": "code",
   "execution_count": 11,
   "metadata": {},
   "outputs": [
    {
     "data": {
      "text/plain": [
       "array([[ 5,  8],\n",
       "       [13, 20]])"
      ]
     },
     "execution_count": 11,
     "metadata": {},
     "output_type": "execute_result"
    }
   ],
   "source": [
    "c1=np.array([(1,2),(3,4)])\n",
    "c2=np.array([(3,4),(1,2)])\n",
    "np.dot(c1,c2)"
   ]
  },
  {
   "cell_type": "code",
   "execution_count": 27,
   "metadata": {},
   "outputs": [
    {
     "name": "stdout",
     "output_type": "stream",
     "text": [
      "     Name           EmailID  MobileNumber Address\n",
      "0    Anil    anil@gmail.com           999     hyd\n",
      "1   Akhil   akhil@gmail.com           888     hyd\n",
      "2  Dinesh  dinesh@gmail.com           777     hyd\n",
      "3  Harsha  harsha@gmail.com           888     hyd\n",
      "4    Ajay    ajay@gmail.com           777     hyd\n",
      "5  Kranth    kran@gmail.com           999     hyd\n"
     ]
    }
   ],
   "source": [
    "import pandas as pd\n",
    "dict={\"Name\":[\"Anil\",\"Akhil\",\"Dinesh\",\"Harsha\",\"Ajay\",\"Kranth\"],\n",
    "       \"EmailID\":[\"anil@gmail.com\",\"akhil@gmail.com\",\"dinesh@gmail.com\",\"harsha@gmail.com\",\"ajay@gmail.com\",\"kran@gmail.com\"],\n",
    "        \"MobileNumber\":[999,888,777,888,777,999],\n",
    "        \"Address\":[\"hyd\",\"hyd\",\"hyd\",\"hyd\",\"hyd\",\"hyd\"]}\n",
    "b=pd.DataFrame(dict)\n",
    "print(b)"
   ]
  },
  {
   "cell_type": "code",
   "execution_count": null,
   "metadata": {},
   "outputs": [],
   "source": []
  },
  {
   "cell_type": "code",
   "execution_count": null,
   "metadata": {},
   "outputs": [],
   "source": []
  }
 ],
 "metadata": {
  "kernelspec": {
   "display_name": "Python 3",
   "language": "python",
   "name": "python3"
  },
  "language_info": {
   "codemirror_mode": {
    "name": "ipython",
    "version": 3
   },
   "file_extension": ".py",
   "mimetype": "text/x-python",
   "name": "python",
   "nbconvert_exporter": "python",
   "pygments_lexer": "ipython3",
   "version": "3.7.3"
  }
 },
 "nbformat": 4,
 "nbformat_minor": 2
}
